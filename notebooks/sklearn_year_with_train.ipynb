{
 "cells": [
  {
   "cell_type": "markdown",
   "metadata": {},
   "source": [
    "#### If you haven't installed Hummingbird, do that first, by uncommenting the line below.\n"
   ]
  },
  {
   "cell_type": "code",
   "execution_count": 1,
   "metadata": {},
   "outputs": [],
   "source": [
    "#! python -m pip install hummingbird_ml "
   ]
  },
  {
   "cell_type": "markdown",
   "metadata": {},
   "source": [
    "#### Import Hummingbird's convert function"
   ]
  },
  {
   "cell_type": "code",
   "execution_count": 2,
   "metadata": {},
   "outputs": [],
   "source": [
    "from hummingbird.ml import convert"
   ]
  },
  {
   "cell_type": "markdown",
   "metadata": {},
   "source": [
    "#### Download and unzip the Year data"
   ]
  },
  {
   "cell_type": "code",
   "execution_count": 3,
   "metadata": {},
   "outputs": [],
   "source": [
    "import zipfile\n",
    "import urllib.request as urllib\n",
    "url = 'https://archive.ics.uci.edu/ml/machine-learning-databases/00203/YearPredictionMSD.txt.zip'\n",
    "\n",
    "filehandle, _ = urllib.urlretrieve(url)\n",
    "zip_file_object = zipfile.ZipFile(filehandle, 'r')\n",
    "filename = zip_file_object.namelist()[0]\n",
    "bytes_data = zip_file_object.open(filename).read()"
   ]
  },
  {
   "cell_type": "markdown",
   "metadata": {},
   "source": [
    "#### Convert the bytes to pandas and split it up"
   ]
  },
  {
   "cell_type": "code",
   "execution_count": 4,
   "metadata": {},
   "outputs": [],
   "source": [
    "import pandas as pd\n",
    "from io import BytesIO\n",
    "from sklearn.model_selection import train_test_split\n",
    "\n",
    "year = pd.read_csv(BytesIO(bytes_data), header = None)\n",
    "\n",
    "#train_size = 463715  # Note: this will extend the training time if we do the full dataset\n",
    "train_size = 200000\n",
    "X = year.iloc[:, 1:]\n",
    "y = year.iloc[:, 0]\n",
    "X_train, X_test, y_train, y_test = train_test_split(X, y, shuffle=False, train_size=train_size, test_size=51630)\n",
    "\n",
    "# Store the test data as numpy by pulling the values out of the pandas dataframe\n",
    "data = X_test.values"
   ]
  },
  {
   "cell_type": "code",
   "execution_count": 5,
   "metadata": {},
   "outputs": [
    {
     "data": {
      "text/html": [
       "<div>\n",
       "<style scoped>\n",
       "    .dataframe tbody tr th:only-of-type {\n",
       "        vertical-align: middle;\n",
       "    }\n",
       "\n",
       "    .dataframe tbody tr th {\n",
       "        vertical-align: top;\n",
       "    }\n",
       "\n",
       "    .dataframe thead th {\n",
       "        text-align: right;\n",
       "    }\n",
       "</style>\n",
       "<table border=\"1\" class=\"dataframe\">\n",
       "  <thead>\n",
       "    <tr style=\"text-align: right;\">\n",
       "      <th></th>\n",
       "      <th>1</th>\n",
       "      <th>2</th>\n",
       "      <th>3</th>\n",
       "      <th>4</th>\n",
       "      <th>5</th>\n",
       "      <th>6</th>\n",
       "      <th>7</th>\n",
       "      <th>8</th>\n",
       "      <th>9</th>\n",
       "      <th>10</th>\n",
       "      <th>...</th>\n",
       "      <th>81</th>\n",
       "      <th>82</th>\n",
       "      <th>83</th>\n",
       "      <th>84</th>\n",
       "      <th>85</th>\n",
       "      <th>86</th>\n",
       "      <th>87</th>\n",
       "      <th>88</th>\n",
       "      <th>89</th>\n",
       "      <th>90</th>\n",
       "    </tr>\n",
       "  </thead>\n",
       "  <tbody>\n",
       "    <tr>\n",
       "      <th>200000</th>\n",
       "      <td>45.09540</td>\n",
       "      <td>-57.29138</td>\n",
       "      <td>20.05392</td>\n",
       "      <td>0.10414</td>\n",
       "      <td>12.00346</td>\n",
       "      <td>-14.31259</td>\n",
       "      <td>2.54547</td>\n",
       "      <td>-3.33986</td>\n",
       "      <td>-3.60175</td>\n",
       "      <td>-8.99414</td>\n",
       "      <td>...</td>\n",
       "      <td>7.15503</td>\n",
       "      <td>-81.48297</td>\n",
       "      <td>34.91722</td>\n",
       "      <td>15.11917</td>\n",
       "      <td>-6.09056</td>\n",
       "      <td>-78.52893</td>\n",
       "      <td>-46.87559</td>\n",
       "      <td>2.89571</td>\n",
       "      <td>64.25949</td>\n",
       "      <td>0.78578</td>\n",
       "    </tr>\n",
       "    <tr>\n",
       "      <th>200001</th>\n",
       "      <td>45.11673</td>\n",
       "      <td>-18.39958</td>\n",
       "      <td>-1.61552</td>\n",
       "      <td>-3.67929</td>\n",
       "      <td>-13.24027</td>\n",
       "      <td>-6.84375</td>\n",
       "      <td>-10.33838</td>\n",
       "      <td>-11.12891</td>\n",
       "      <td>16.56924</td>\n",
       "      <td>6.70243</td>\n",
       "      <td>...</td>\n",
       "      <td>8.26246</td>\n",
       "      <td>-138.26547</td>\n",
       "      <td>23.59451</td>\n",
       "      <td>60.99156</td>\n",
       "      <td>4.18891</td>\n",
       "      <td>105.75496</td>\n",
       "      <td>-126.39851</td>\n",
       "      <td>-3.80727</td>\n",
       "      <td>55.00532</td>\n",
       "      <td>-3.42354</td>\n",
       "    </tr>\n",
       "    <tr>\n",
       "      <th>200002</th>\n",
       "      <td>46.85191</td>\n",
       "      <td>9.44824</td>\n",
       "      <td>0.31518</td>\n",
       "      <td>-16.85413</td>\n",
       "      <td>15.42389</td>\n",
       "      <td>-15.82587</td>\n",
       "      <td>-21.21385</td>\n",
       "      <td>-10.16067</td>\n",
       "      <td>14.45113</td>\n",
       "      <td>2.22865</td>\n",
       "      <td>...</td>\n",
       "      <td>13.24783</td>\n",
       "      <td>-91.25475</td>\n",
       "      <td>41.12300</td>\n",
       "      <td>55.22389</td>\n",
       "      <td>8.33048</td>\n",
       "      <td>7.57355</td>\n",
       "      <td>17.34516</td>\n",
       "      <td>0.21543</td>\n",
       "      <td>-58.34520</td>\n",
       "      <td>3.92760</td>\n",
       "    </tr>\n",
       "    <tr>\n",
       "      <th>200003</th>\n",
       "      <td>45.79644</td>\n",
       "      <td>-36.86230</td>\n",
       "      <td>21.99320</td>\n",
       "      <td>-10.42360</td>\n",
       "      <td>-2.89410</td>\n",
       "      <td>-8.84010</td>\n",
       "      <td>-23.73864</td>\n",
       "      <td>-9.82956</td>\n",
       "      <td>13.08399</td>\n",
       "      <td>0.57577</td>\n",
       "      <td>...</td>\n",
       "      <td>8.13403</td>\n",
       "      <td>-194.21155</td>\n",
       "      <td>55.55883</td>\n",
       "      <td>21.65387</td>\n",
       "      <td>6.41164</td>\n",
       "      <td>-47.18867</td>\n",
       "      <td>-212.14270</td>\n",
       "      <td>-4.67550</td>\n",
       "      <td>-86.99988</td>\n",
       "      <td>-6.12034</td>\n",
       "    </tr>\n",
       "    <tr>\n",
       "      <th>200004</th>\n",
       "      <td>40.92442</td>\n",
       "      <td>-43.26026</td>\n",
       "      <td>-18.72100</td>\n",
       "      <td>-11.72495</td>\n",
       "      <td>-19.69395</td>\n",
       "      <td>-10.54229</td>\n",
       "      <td>-9.91945</td>\n",
       "      <td>-14.85633</td>\n",
       "      <td>9.37409</td>\n",
       "      <td>-0.93093</td>\n",
       "      <td>...</td>\n",
       "      <td>17.63167</td>\n",
       "      <td>-203.56276</td>\n",
       "      <td>27.10714</td>\n",
       "      <td>36.90795</td>\n",
       "      <td>0.62431</td>\n",
       "      <td>-40.23377</td>\n",
       "      <td>-83.22141</td>\n",
       "      <td>4.44391</td>\n",
       "      <td>73.15568</td>\n",
       "      <td>3.25023</td>\n",
       "    </tr>\n",
       "  </tbody>\n",
       "</table>\n",
       "<p>5 rows × 90 columns</p>\n",
       "</div>"
      ],
      "text/plain": [
       "              1         2         3         4         5         6         7   \\\n",
       "200000  45.09540 -57.29138  20.05392   0.10414  12.00346 -14.31259   2.54547   \n",
       "200001  45.11673 -18.39958  -1.61552  -3.67929 -13.24027  -6.84375 -10.33838   \n",
       "200002  46.85191   9.44824   0.31518 -16.85413  15.42389 -15.82587 -21.21385   \n",
       "200003  45.79644 -36.86230  21.99320 -10.42360  -2.89410  -8.84010 -23.73864   \n",
       "200004  40.92442 -43.26026 -18.72100 -11.72495 -19.69395 -10.54229  -9.91945   \n",
       "\n",
       "              8         9        10  ...        81         82        83  \\\n",
       "200000  -3.33986  -3.60175 -8.99414  ...   7.15503  -81.48297  34.91722   \n",
       "200001 -11.12891  16.56924  6.70243  ...   8.26246 -138.26547  23.59451   \n",
       "200002 -10.16067  14.45113  2.22865  ...  13.24783  -91.25475  41.12300   \n",
       "200003  -9.82956  13.08399  0.57577  ...   8.13403 -194.21155  55.55883   \n",
       "200004 -14.85633   9.37409 -0.93093  ...  17.63167 -203.56276  27.10714   \n",
       "\n",
       "              84       85         86         87       88        89       90  \n",
       "200000  15.11917 -6.09056  -78.52893  -46.87559  2.89571  64.25949  0.78578  \n",
       "200001  60.99156  4.18891  105.75496 -126.39851 -3.80727  55.00532 -3.42354  \n",
       "200002  55.22389  8.33048    7.57355   17.34516  0.21543 -58.34520  3.92760  \n",
       "200003  21.65387  6.41164  -47.18867 -212.14270 -4.67550 -86.99988 -6.12034  \n",
       "200004  36.90795  0.62431  -40.23377  -83.22141  4.44391  73.15568  3.25023  \n",
       "\n",
       "[5 rows x 90 columns]"
      ]
     },
     "execution_count": 5,
     "metadata": {},
     "output_type": "execute_result"
    }
   ],
   "source": [
    "# peak at the data if desired\n",
    "X_test.head()"
   ]
  },
  {
   "cell_type": "markdown",
   "metadata": {},
   "source": [
    "#### Train the model  (Note, this may take a bit of time for larger values of _num_est_. )"
   ]
  },
  {
   "cell_type": "code",
   "execution_count": 6,
   "metadata": {},
   "outputs": [
    {
     "data": {
      "text/plain": [
       "RandomForestRegressor(bootstrap=True, criterion='mse', max_depth=8,\n",
       "                      max_features='auto', max_leaf_nodes=None,\n",
       "                      min_impurity_decrease=0.0, min_impurity_split=None,\n",
       "                      min_samples_leaf=1, min_samples_split=2,\n",
       "                      min_weight_fraction_leaf=0.0, n_estimators=100,\n",
       "                      n_jobs=None, oob_score=False, random_state=None,\n",
       "                      verbose=0, warm_start=False)"
      ]
     },
     "execution_count": 6,
     "metadata": {},
     "output_type": "execute_result"
    }
   ],
   "source": [
    "from sklearn.ensemble import RandomForestRegressor\n",
    "num_est=100\n",
    "\n",
    "skl_model = RandomForestRegressor(n_estimators=num_est, max_depth=8)\n",
    "skl_model.fit(X_train, y_train)"
   ]
  },
  {
   "cell_type": "markdown",
   "metadata": {},
   "source": [
    "#### scikit-learn (CPU only)"
   ]
  },
  {
   "cell_type": "code",
   "execution_count": 7,
   "metadata": {},
   "outputs": [
    {
     "name": "stdout",
     "output_type": "stream",
     "text": [
      "382 ms ± 4.7 ms per loop (mean ± std. dev. of 7 runs, 1 loop each)\n"
     ]
    }
   ],
   "source": [
    "skl_time = %timeit -o skl_model.predict(data)"
   ]
  },
  {
   "cell_type": "markdown",
   "metadata": {},
   "source": [
    "#### Convert scikit-learn model to PyTorch"
   ]
  },
  {
   "cell_type": "code",
   "execution_count": 8,
   "metadata": {},
   "outputs": [],
   "source": [
    "model = convert(skl_model, 'torch')"
   ]
  },
  {
   "cell_type": "markdown",
   "metadata": {},
   "source": [
    "#### Time PyTorch - CPU"
   ]
  },
  {
   "cell_type": "code",
   "execution_count": 9,
   "metadata": {},
   "outputs": [
    {
     "name": "stdout",
     "output_type": "stream",
     "text": [
      "317 ms ± 8.94 ms per loop (mean ± std. dev. of 7 runs, 1 loop each)\n"
     ]
    }
   ],
   "source": [
    "pred_cpu_hb = %timeit -o model.predict(data)"
   ]
  },
  {
   "cell_type": "markdown",
   "metadata": {},
   "source": [
    "#### Switch PyTorch from CPU to GPU"
   ]
  },
  {
   "cell_type": "code",
   "execution_count": 10,
   "metadata": {},
   "outputs": [],
   "source": [
    "%%capture \n",
    "model.to('cuda')"
   ]
  },
  {
   "cell_type": "markdown",
   "metadata": {},
   "source": [
    "#### Time PyTorch - GPU"
   ]
  },
  {
   "cell_type": "code",
   "execution_count": 11,
   "metadata": {},
   "outputs": [
    {
     "name": "stdout",
     "output_type": "stream",
     "text": [
      "12.5 ms ± 88.3 µs per loop (mean ± std. dev. of 7 runs, 100 loops each)\n"
     ]
    }
   ],
   "source": [
    "pred_gpu_hb = %timeit -o model.predict(data)"
   ]
  },
  {
   "cell_type": "markdown",
   "metadata": {},
   "source": [
    "## Note: Continuing in this notebook requires TVM built with LLVM support. Install instructions [here](https://tvm.apache.org/docs/install/index.html)"
   ]
  },
  {
   "cell_type": "markdown",
   "metadata": {},
   "source": [
    "#### Convert scikit-learn model to TVM (CPU)"
   ]
  },
  {
   "cell_type": "code",
   "execution_count": 12,
   "metadata": {},
   "outputs": [],
   "source": [
    "model_tvm = convert(skl_model, 'tvm', data)"
   ]
  },
  {
   "cell_type": "markdown",
   "metadata": {},
   "source": [
    "#### Time TVM - CPU"
   ]
  },
  {
   "cell_type": "code",
   "execution_count": 13,
   "metadata": {
    "scrolled": true
   },
   "outputs": [
    {
     "name": "stdout",
     "output_type": "stream",
     "text": [
      "155 ms ± 1.58 ms per loop (mean ± std. dev. of 7 runs, 10 loops each)\n"
     ]
    }
   ],
   "source": [
    "pred_cpu_tvm = %timeit -o model_tvm.predict(data)"
   ]
  },
  {
   "cell_type": "markdown",
   "metadata": {},
   "source": [
    "#### Convert scikit-learn model to TVM (GPU)"
   ]
  },
  {
   "cell_type": "code",
   "execution_count": 14,
   "metadata": {},
   "outputs": [],
   "source": [
    "model_tvm = convert(skl_model, 'tvm', data, 'cuda')"
   ]
  },
  {
   "cell_type": "markdown",
   "metadata": {},
   "source": [
    "#### Time TVM - GPU"
   ]
  },
  {
   "cell_type": "code",
   "execution_count": 15,
   "metadata": {},
   "outputs": [
    {
     "name": "stdout",
     "output_type": "stream",
     "text": [
      "20.5 ms ± 166 µs per loop (mean ± std. dev. of 7 runs, 10 loops each)\n"
     ]
    }
   ],
   "source": [
    "pred_gpu_tvm = %timeit -o model_tvm.predict(data)"
   ]
  },
  {
   "cell_type": "markdown",
   "metadata": {},
   "source": [
    "#### Plot the results"
   ]
  },
  {
   "cell_type": "code",
   "execution_count": 16,
   "metadata": {},
   "outputs": [],
   "source": [
    "def plot(title, skl_time, pred_cpu_hb, pred_gpu_hb, pred_cpu_tvm, pred_gpu_tvm):\n",
    "    import matplotlib.pyplot as plt\n",
    "    import numpy as np\n",
    "    from matplotlib.pyplot import cm\n",
    "\n",
    "    fig = plt.figure()\n",
    "\n",
    "    x = ['skl','pyt-cpu','pyt-gpu','tvm-cpu','tvm-gpu']\n",
    "    height = [skl_time.average,pred_cpu_hb.average,pred_gpu_hb.average,pred_cpu_tvm.average,pred_gpu_tvm.average]\n",
    "    width = 1.0\n",
    "    plt.ylabel('time in seconds')\n",
    "    plt.xlabel(title)\n",
    "\n",
    "    rects = plt.bar(x, height, width, color=cm.rainbow(np.linspace(0,1,5)))\n",
    "    def autolabel(rects):\n",
    "\n",
    "        for rect in rects:\n",
    "            height = rect.get_height()\n",
    "            plt.text(rect.get_x() + rect.get_width()/2., 1.05*height,\n",
    "                    '%.4f' % (height),\n",
    "                    ha='center', va='bottom')\n",
    "\n",
    "    autolabel(rects)\n",
    "    plt.show()"
   ]
  },
  {
   "cell_type": "code",
   "execution_count": 17,
   "metadata": {},
   "outputs": [
    {
     "data": {
      "image/png": "[encoded data removed]",
      "text/plain": [
       "<Figure size 432x288 with 1 Axes>"
      ]
     },
     "metadata": {
      "needs_background": "light"
     },
     "output_type": "display_data"
    }
   ],
   "source": [
    "chartname = \"SKL - \" + str(num_est) + \" - Year Dataset\"\n",
    "\n",
    "plot(chartname, skl_time, pred_cpu_hb, pred_gpu_hb, pred_cpu_tvm, pred_gpu_tvm)"
   ]
  },
  {
   "cell_type": "code",
   "execution_count": null,
   "metadata": {},
   "outputs": [],
   "source": []
  },
  {
   "cell_type": "code",
   "execution_count": null,
   "metadata": {},
   "outputs": [],
   "source": []
  }
 ],
 "metadata": {
  "kernelspec": {
   "display_name": "Python 3",
   "language": "python",
   "name": "python3"
  },
  "language_info": {
   "codemirror_mode": {
    "name": "ipython",
    "version": 3
   },
   "file_extension": ".py",
   "mimetype": "text/x-python",
   "name": "python",
   "nbconvert_exporter": "python",
   "pygments_lexer": "ipython3",
   "version": "3.6.9"
  }
 },
 "nbformat": 4,
 "nbformat_minor": 2
}
