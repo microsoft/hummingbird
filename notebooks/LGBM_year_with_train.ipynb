{
 "cells": [
  {
   "cell_type": "markdown",
   "metadata": {},
   "source": [
    "#### If you haven't installed Hummingbird, do that first, by uncommenting the line below.\n"
   ]
  },
  {
   "cell_type": "code",
   "execution_count": 1,
   "metadata": {},
   "outputs": [],
   "source": [
    "#! python -m pip install hummingbird_ml "
   ]
  },
  {
   "cell_type": "markdown",
   "metadata": {},
   "source": [
    "#### Import Hummingbird's convert function"
   ]
  },
  {
   "cell_type": "code",
   "execution_count": 2,
   "metadata": {},
   "outputs": [],
   "source": [
    "from hummingbird.ml import convert"
   ]
  },
  {
   "cell_type": "markdown",
   "metadata": {},
   "source": [
    "#### Download and unzip the Year data"
   ]
  },
  {
   "cell_type": "code",
   "execution_count": 3,
   "metadata": {},
   "outputs": [],
   "source": [
    "import zipfile\n",
    "import urllib.request as urllib\n",
    "url = 'https://archive.ics.uci.edu/ml/machine-learning-databases/00203/YearPredictionMSD.txt.zip'\n",
    "\n",
    "filehandle, _ = urllib.urlretrieve(url)\n",
    "zip_file_object = zipfile.ZipFile(filehandle, 'r')\n",
    "filename = zip_file_object.namelist()[0]\n",
    "bytes_data = zip_file_object.open(filename).read()"
   ]
  },
  {
   "cell_type": "markdown",
   "metadata": {},
   "source": [
    "#### Convert the bytes to pandas and split it up"
   ]
  },
  {
   "cell_type": "code",
   "execution_count": 4,
   "metadata": {},
   "outputs": [],
   "source": [
    "import pandas as pd\n",
    "from io import BytesIO\n",
    "from sklearn.model_selection import train_test_split\n",
    "\n",
    "year = pd.read_csv(BytesIO(bytes_data), header = None)\n",
    "\n",
    "X = year.iloc[:, 1:]\n",
    "y = year.iloc[:, 0]\n",
    "X_train, X_test, y_train, y_test = train_test_split(X, y, shuffle=False, train_size=463715, test_size=51630)\n",
    "\n",
    "# Store the test data as numpy by pulling the values out of the pandas dataframe\n",
    "data = X_test.values"
   ]
  },
  {
   "cell_type": "code",
   "execution_count": 5,
   "metadata": {},
   "outputs": [
    {
     "data": {
      "text/html": [
       "<div>\n",
       "<style scoped>\n",
       "    .dataframe tbody tr th:only-of-type {\n",
       "        vertical-align: middle;\n",
       "    }\n",
       "\n",
       "    .dataframe tbody tr th {\n",
       "        vertical-align: top;\n",
       "    }\n",
       "\n",
       "    .dataframe thead th {\n",
       "        text-align: right;\n",
       "    }\n",
       "</style>\n",
       "<table border=\"1\" class=\"dataframe\">\n",
       "  <thead>\n",
       "    <tr style=\"text-align: right;\">\n",
       "      <th></th>\n",
       "      <th>1</th>\n",
       "      <th>2</th>\n",
       "      <th>3</th>\n",
       "      <th>4</th>\n",
       "      <th>5</th>\n",
       "      <th>6</th>\n",
       "      <th>7</th>\n",
       "      <th>8</th>\n",
       "      <th>9</th>\n",
       "      <th>10</th>\n",
       "      <th>...</th>\n",
       "      <th>81</th>\n",
       "      <th>82</th>\n",
       "      <th>83</th>\n",
       "      <th>84</th>\n",
       "      <th>85</th>\n",
       "      <th>86</th>\n",
       "      <th>87</th>\n",
       "      <th>88</th>\n",
       "      <th>89</th>\n",
       "      <th>90</th>\n",
       "    </tr>\n",
       "  </thead>\n",
       "  <tbody>\n",
       "    <tr>\n",
       "      <th>463715</th>\n",
       "      <td>45.44200</td>\n",
       "      <td>-30.74976</td>\n",
       "      <td>31.78587</td>\n",
       "      <td>4.63569</td>\n",
       "      <td>-15.14894</td>\n",
       "      <td>0.23370</td>\n",
       "      <td>-11.97968</td>\n",
       "      <td>-9.59708</td>\n",
       "      <td>6.48111</td>\n",
       "      <td>-8.89073</td>\n",
       "      <td>...</td>\n",
       "      <td>-8.84046</td>\n",
       "      <td>-0.15439</td>\n",
       "      <td>137.44210</td>\n",
       "      <td>77.54739</td>\n",
       "      <td>-4.22875</td>\n",
       "      <td>-61.92657</td>\n",
       "      <td>-33.52722</td>\n",
       "      <td>-3.86253</td>\n",
       "      <td>36.42400</td>\n",
       "      <td>7.17309</td>\n",
       "    </tr>\n",
       "    <tr>\n",
       "      <th>463716</th>\n",
       "      <td>52.67814</td>\n",
       "      <td>-2.88914</td>\n",
       "      <td>43.95268</td>\n",
       "      <td>-1.39209</td>\n",
       "      <td>-14.93379</td>\n",
       "      <td>-15.86877</td>\n",
       "      <td>1.19379</td>\n",
       "      <td>0.31401</td>\n",
       "      <td>-4.44235</td>\n",
       "      <td>-5.78934</td>\n",
       "      <td>...</td>\n",
       "      <td>-5.74356</td>\n",
       "      <td>-42.57910</td>\n",
       "      <td>-2.91103</td>\n",
       "      <td>48.72805</td>\n",
       "      <td>-3.08183</td>\n",
       "      <td>-9.38888</td>\n",
       "      <td>-7.27179</td>\n",
       "      <td>-4.00966</td>\n",
       "      <td>-68.96211</td>\n",
       "      <td>-5.21525</td>\n",
       "    </tr>\n",
       "    <tr>\n",
       "      <th>463717</th>\n",
       "      <td>45.74235</td>\n",
       "      <td>12.02291</td>\n",
       "      <td>11.03009</td>\n",
       "      <td>-11.60763</td>\n",
       "      <td>11.80054</td>\n",
       "      <td>-11.12389</td>\n",
       "      <td>-5.39058</td>\n",
       "      <td>-1.11981</td>\n",
       "      <td>-7.74086</td>\n",
       "      <td>-3.33421</td>\n",
       "      <td>...</td>\n",
       "      <td>-4.70606</td>\n",
       "      <td>-24.22599</td>\n",
       "      <td>-35.22686</td>\n",
       "      <td>27.77729</td>\n",
       "      <td>15.38934</td>\n",
       "      <td>58.20036</td>\n",
       "      <td>-61.12698</td>\n",
       "      <td>-10.92522</td>\n",
       "      <td>26.75348</td>\n",
       "      <td>-5.78743</td>\n",
       "    </tr>\n",
       "    <tr>\n",
       "      <th>463718</th>\n",
       "      <td>52.55883</td>\n",
       "      <td>2.87222</td>\n",
       "      <td>27.38848</td>\n",
       "      <td>-5.76235</td>\n",
       "      <td>-15.35766</td>\n",
       "      <td>-15.01592</td>\n",
       "      <td>-5.86893</td>\n",
       "      <td>-0.31447</td>\n",
       "      <td>-5.06922</td>\n",
       "      <td>-4.62734</td>\n",
       "      <td>...</td>\n",
       "      <td>-8.35215</td>\n",
       "      <td>-16.86791</td>\n",
       "      <td>-10.58277</td>\n",
       "      <td>40.10173</td>\n",
       "      <td>-0.54005</td>\n",
       "      <td>-11.54746</td>\n",
       "      <td>-45.35860</td>\n",
       "      <td>-4.55694</td>\n",
       "      <td>-43.17368</td>\n",
       "      <td>-3.33725</td>\n",
       "    </tr>\n",
       "    <tr>\n",
       "      <th>463719</th>\n",
       "      <td>51.34809</td>\n",
       "      <td>9.02702</td>\n",
       "      <td>25.33757</td>\n",
       "      <td>-6.62537</td>\n",
       "      <td>0.03367</td>\n",
       "      <td>-12.69565</td>\n",
       "      <td>-3.13400</td>\n",
       "      <td>2.98649</td>\n",
       "      <td>-6.71750</td>\n",
       "      <td>-1.85804</td>\n",
       "      <td>...</td>\n",
       "      <td>-6.87366</td>\n",
       "      <td>-20.03371</td>\n",
       "      <td>-66.38940</td>\n",
       "      <td>50.56569</td>\n",
       "      <td>0.27747</td>\n",
       "      <td>67.05657</td>\n",
       "      <td>-55.58846</td>\n",
       "      <td>-7.50859</td>\n",
       "      <td>28.23511</td>\n",
       "      <td>-0.72045</td>\n",
       "    </tr>\n",
       "  </tbody>\n",
       "</table>\n",
       "<p>5 rows × 90 columns</p>\n",
       "</div>"
      ],
      "text/plain": [
       "              1         2         3         4         5         6         7   \\\n",
       "463715  45.44200 -30.74976  31.78587   4.63569 -15.14894   0.23370 -11.97968   \n",
       "463716  52.67814  -2.88914  43.95268  -1.39209 -14.93379 -15.86877   1.19379   \n",
       "463717  45.74235  12.02291  11.03009 -11.60763  11.80054 -11.12389  -5.39058   \n",
       "463718  52.55883   2.87222  27.38848  -5.76235 -15.35766 -15.01592  -5.86893   \n",
       "463719  51.34809   9.02702  25.33757  -6.62537   0.03367 -12.69565  -3.13400   \n",
       "\n",
       "             8        9        10  ...       81        82         83  \\\n",
       "463715 -9.59708  6.48111 -8.89073  ... -8.84046  -0.15439  137.44210   \n",
       "463716  0.31401 -4.44235 -5.78934  ... -5.74356 -42.57910   -2.91103   \n",
       "463717 -1.11981 -7.74086 -3.33421  ... -4.70606 -24.22599  -35.22686   \n",
       "463718 -0.31447 -5.06922 -4.62734  ... -8.35215 -16.86791  -10.58277   \n",
       "463719  2.98649 -6.71750 -1.85804  ... -6.87366 -20.03371  -66.38940   \n",
       "\n",
       "              84        85        86        87        88        89       90  \n",
       "463715  77.54739  -4.22875 -61.92657 -33.52722  -3.86253  36.42400  7.17309  \n",
       "463716  48.72805  -3.08183  -9.38888  -7.27179  -4.00966 -68.96211 -5.21525  \n",
       "463717  27.77729  15.38934  58.20036 -61.12698 -10.92522  26.75348 -5.78743  \n",
       "463718  40.10173  -0.54005 -11.54746 -45.35860  -4.55694 -43.17368 -3.33725  \n",
       "463719  50.56569   0.27747  67.05657 -55.58846  -7.50859  28.23511 -0.72045  \n",
       "\n",
       "[5 rows x 90 columns]"
      ]
     },
     "execution_count": 5,
     "metadata": {},
     "output_type": "execute_result"
    }
   ],
   "source": [
    "# peak at the data if desired\n",
    "X_test.head()"
   ]
  },
  {
   "cell_type": "markdown",
   "metadata": {},
   "source": [
    "#### Train the model  (Note, this may take a bit of time. )"
   ]
  },
  {
   "cell_type": "code",
   "execution_count": 6,
   "metadata": {},
   "outputs": [
    {
     "data": {
      "text/plain": [
       "LGBMRegressor(boosting_type='gbdt', class_weight=None, colsample_bytree=1.0,\n",
       "              importance_type='split', learning_rate=0.1, max_depth=8,\n",
       "              min_child_samples=20, min_child_weight=0.001, min_split_gain=0.0,\n",
       "              n_estimators=500, n_jobs=6, num_leaves=256,\n",
       "              objective='regression', random_state=None, reg_alpha=0.0,\n",
       "              reg_lambda=1, silent=True, subsample=1.0,\n",
       "              subsample_for_bin=200000, subsample_freq=0)"
      ]
     },
     "execution_count": 6,
     "metadata": {},
     "output_type": "execute_result"
    }
   ],
   "source": [
    "import lightgbm as lgb\n",
    "\n",
    "lgbm_model = lgb.LGBMRegressor(max_depth=8,n_estimators=500, num_leaves=256, objective=\"regression\", reg_lambda=1, n_jobs=6)\n",
    "\n",
    "lgbm_model.fit(X_train, y_train)\n"
   ]
  },
  {
   "cell_type": "markdown",
   "metadata": {},
   "source": [
    "#### LGBM (CPU only)"
   ]
  },
  {
   "cell_type": "code",
   "execution_count": 7,
   "metadata": {},
   "outputs": [
    {
     "name": "stdout",
     "output_type": "stream",
     "text": [
      "844 ms ± 6.59 ms per loop (mean ± std. dev. of 7 runs, 1 loop each)\n"
     ]
    }
   ],
   "source": [
    "lgbm_time = %timeit -o lgbm_model.predict(data)"
   ]
  },
  {
   "cell_type": "markdown",
   "metadata": {},
   "source": [
    "#### Convert LGBM model to PyTorch"
   ]
  },
  {
   "cell_type": "code",
   "execution_count": 8,
   "metadata": {},
   "outputs": [
    {
     "name": "stdout",
     "output_type": "stream",
     "text": [
      "Finished loading model, total used 500 iterations\n"
     ]
    }
   ],
   "source": [
    "model = convert(lgbm_model, 'torch')"
   ]
  },
  {
   "cell_type": "markdown",
   "metadata": {},
   "source": [
    "#### Time PyTorch - CPU"
   ]
  },
  {
   "cell_type": "code",
   "execution_count": 9,
   "metadata": {},
   "outputs": [
    {
     "name": "stdout",
     "output_type": "stream",
     "text": [
      "1.78 s ± 17 ms per loop (mean ± std. dev. of 7 runs, 1 loop each)\n"
     ]
    }
   ],
   "source": [
    "pred_cpu_hb = %timeit -o model.predict(data)"
   ]
  },
  {
   "cell_type": "code",
   "execution_count": 10,
   "metadata": {},
   "outputs": [
    {
     "data": {
      "text/plain": [
       "(51630, 90)"
      ]
     },
     "execution_count": 10,
     "metadata": {},
     "output_type": "execute_result"
    }
   ],
   "source": [
    "X_test.values.shape"
   ]
  },
  {
   "cell_type": "markdown",
   "metadata": {},
   "source": [
    "#### Switch PyTorch from CPU to GPU"
   ]
  },
  {
   "cell_type": "code",
   "execution_count": 11,
   "metadata": {},
   "outputs": [],
   "source": [
    "%%capture \n",
    "model.to('cuda')"
   ]
  },
  {
   "cell_type": "markdown",
   "metadata": {},
   "source": [
    "#### Time PyTorch - GPU"
   ]
  },
  {
   "cell_type": "code",
   "execution_count": 12,
   "metadata": {},
   "outputs": [
    {
     "name": "stdout",
     "output_type": "stream",
     "text": [
      "50 ms ± 243 µs per loop (mean ± std. dev. of 7 runs, 10 loops each)\n"
     ]
    }
   ],
   "source": [
    "pred_gpu_hb = %timeit -o model.predict(data)"
   ]
  },
  {
   "cell_type": "markdown",
   "metadata": {},
   "source": [
    "## Note: Continuing in this notebook requires TVM built with LLVM support. Install instructions [here](https://tvm.apache.org/docs/install/index.html)"
   ]
  },
  {
   "cell_type": "markdown",
   "metadata": {},
   "source": [
    "#### Convert LGBM model to TVM (CPU)"
   ]
  },
  {
   "cell_type": "code",
   "execution_count": 13,
   "metadata": {},
   "outputs": [
    {
     "name": "stdout",
     "output_type": "stream",
     "text": [
      "Finished loading model, total used 500 iterations\n"
     ]
    }
   ],
   "source": [
    "model_tvm = convert(lgbm_model, 'tvm', data)"
   ]
  },
  {
   "cell_type": "markdown",
   "metadata": {},
   "source": [
    "#### Time TVM - CPU"
   ]
  },
  {
   "cell_type": "code",
   "execution_count": 14,
   "metadata": {
    "scrolled": true
   },
   "outputs": [
    {
     "name": "stdout",
     "output_type": "stream",
     "text": [
      "803 ms ± 8.4 ms per loop (mean ± std. dev. of 7 runs, 1 loop each)\n"
     ]
    }
   ],
   "source": [
    "pred_cpu_tvm = %timeit -o model_tvm.predict(data)"
   ]
  },
  {
   "cell_type": "markdown",
   "metadata": {},
   "source": [
    "#### Convert LBGM model to TVM (GPU)"
   ]
  },
  {
   "cell_type": "code",
   "execution_count": 15,
   "metadata": {},
   "outputs": [
    {
     "name": "stdout",
     "output_type": "stream",
     "text": [
      "Finished loading model, total used 500 iterations\n"
     ]
    }
   ],
   "source": [
    "model_tvm = convert(lgbm_model, 'tvm', data, 'cuda')"
   ]
  },
  {
   "cell_type": "markdown",
   "metadata": {},
   "source": [
    "#### Time TVM - GPU"
   ]
  },
  {
   "cell_type": "code",
   "execution_count": 16,
   "metadata": {},
   "outputs": [
    {
     "name": "stdout",
     "output_type": "stream",
     "text": [
      "31.1 ms ± 402 µs per loop (mean ± std. dev. of 7 runs, 10 loops each)\n"
     ]
    }
   ],
   "source": [
    "pred_gpu_tvm = %timeit -o model_tvm.predict(data)"
   ]
  },
  {
   "cell_type": "markdown",
   "metadata": {},
   "source": [
    "#### Plot the results"
   ]
  },
  {
   "cell_type": "code",
   "execution_count": 17,
   "metadata": {},
   "outputs": [],
   "source": [
    "def plot(title, lgbm_time, pred_cpu_hb, pred_gpu_hb, pred_cpu_tvm, pred_gpu_tvm):\n",
    "    import matplotlib.pyplot as plt\n",
    "    import numpy as np\n",
    "    from matplotlib.pyplot import cm\n",
    "\n",
    "    fig = plt.figure()\n",
    "\n",
    "    x = ['lgbm','pyt-cpu','pyt-gpu','tvm-cpu','tvm-gpu']\n",
    "    height = [lgbm_time.average,pred_cpu_hb.average,pred_gpu_hb.average,pred_cpu_tvm.average,pred_gpu_tvm.average]\n",
    "    width = 1.0\n",
    "    plt.ylabel('time in seconds')\n",
    "    plt.xlabel(title)\n",
    "\n",
    "    rects = plt.bar(x, height, width, color=cm.rainbow(np.linspace(0,1,5)))\n",
    "    def autolabel(rects):\n",
    "\n",
    "        for rect in rects:\n",
    "            height = rect.get_height()\n",
    "            plt.text(rect.get_x() + rect.get_width()/2., 1.05*height,\n",
    "                    '%.4f' % (height),\n",
    "                    ha='center', va='bottom')\n",
    "\n",
    "    autolabel(rects)\n",
    "    plt.show()"
   ]
  },
  {
   "cell_type": "code",
   "execution_count": 18,
   "metadata": {},
   "outputs": [
    {
     "data": {
      "image/png": "[encoded data removed]",
      "text/plain": [
       "<Figure size 432x288 with 1 Axes>"
      ]
     },
     "metadata": {
      "needs_background": "light"
     },
     "output_type": "display_data"
    }
   ],
   "source": [
    "plot(\"LGBM (500) - Year Dataset\", lgbm_time, pred_cpu_hb, pred_gpu_hb, pred_cpu_tvm, pred_gpu_tvm)"
   ]
  },
  {
   "cell_type": "code",
   "execution_count": null,
   "metadata": {},
   "outputs": [],
   "source": []
  }
 ],
 "metadata": {
  "kernelspec": {
   "display_name": "Python 3",
   "language": "python",
   "name": "python3"
  },
  "language_info": {
   "codemirror_mode": {
    "name": "ipython",
    "version": 3
   },
   "file_extension": ".py",
   "mimetype": "text/x-python",
   "name": "python",
   "nbconvert_exporter": "python",
   "pygments_lexer": "ipython3",
   "version": "3.6.9"
  }
 },
 "nbformat": 4,
 "nbformat_minor": 2
}
